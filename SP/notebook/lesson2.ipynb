{
 "cells": [
  {
   "cell_type": "markdown",
   "metadata": {},
   "source": [
    "# Monte Carlo methods"
   ]
  },
  {
   "cell_type": "code",
   "execution_count": 2,
   "metadata": {},
   "outputs": [
    {
     "name": "stdout",
     "output_type": "stream",
     "text": [
      "number of variates: 1000000\n",
      "estimated value: 0.030210503047408098\n",
      "estimated value 0.0302105\n",
      "confidence interval: lower 0.0301328, upper 0.0302882\n"
     ]
    }
   ],
   "source": [
    "import numpy.random as npr\n",
    "import numpy as np\n",
    "a=1\n",
    "b=1.5\n",
    "c=(np.log(3)-np.log(2))**2\n",
    "N=1000000\n",
    "print('number of variates:', N)\n",
    "X=npr.rand(2,N)\n",
    "Z=[(np.log(a+(b-a)*X[0,i])**2>c*X[1,i])*1 for i in range(0,N)]\n",
    "theta=np.mean(Z)*c*(b-a)\n",
    "print(\"estimated value:\", theta)\n",
    "print(\"estimated value {:.7f}\".format(theta))\n",
    "theta_b=theta-(1/np.sqrt(N))*1.96*np.std(Z)*c*(b-a);\n",
    "theta_h=theta+(1/np.sqrt(N))*1.96*np.std(Z)*c*(b-a);\n",
    "print(\"confidence interval: lower {:.7f}, upper {:.7f}\".format(theta_b,theta_h))"
   ]
  },
  {
   "cell_type": "code",
   "execution_count": 3,
   "metadata": {},
   "outputs": [
    {
     "name": "stdout",
     "output_type": "stream",
     "text": [
      "estimated value: 142079.3472\n",
      "margin: 162065.4521\n",
      "confidence interval: lower -19986.1050, upper 304144.7993\n"
     ]
    }
   ],
   "source": [
    "N=100000;\n",
    "X=npr.randn(N)\n",
    "Z=[np.exp(5*X[i])*(X[i]>0) for i in range(N)]\n",
    "theta=np.mean(Z)\n",
    "sigma=np.std(Z)\n",
    "marge=1.96*sigma/np.sqrt(N)\n",
    "print(\"estimated value: {:.4f}\".format(theta))\n",
    "print(\"margin: {:.4f}\".format(marge))\n",
    "print(\"confidence interval: lower {:.4f}, upper {:.4f}\".format(theta-marge,theta+marge))"
   ]
  },
  {
   "cell_type": "code",
   "execution_count": 4,
   "metadata": {},
   "outputs": [
    {
     "name": "stdout",
     "output_type": "stream",
     "text": [
      "estimated value: 268337.286520874535199\n",
      "margin: 3.6077482008433567e-13\n",
      "confidence interval: lower 268337.28652087454 , upper 268337.28652087454\n"
     ]
    }
   ],
   "source": [
    "N=100000;\n",
    "X=npr.randn(N)\n",
    "W=[np.exp(25/2)*(X[i]+5>0) for i in range(N)]\n",
    "A=[(X[i]+5>0) for i in range(N)]\n",
    "theta1=np.mean(W)\n",
    "sigma1=np.std(W)\n",
    "marge1=1.96*sigma1/np.sqrt(N)\n",
    "print(\"estimated value: {:.15f}\".format(theta1))\n",
    "print(\"margin:\", marge1)\n",
    "print(\"confidence interval: lower\", theta1-marge1,  \", upper\",theta1+marge1)"
   ]
  },
  {
   "cell_type": "code",
   "execution_count": 6,
   "metadata": {},
   "outputs": [
    {
     "name": "stdout",
     "output_type": "stream",
     "text": [
      "confidence interval: lower 268337.2088204195 , upper 268337.2110815811\n",
      "comparison of the margins : 518524.4469478968 3.6077482008433567e-13 0.0011305807631627979\n"
     ]
    }
   ],
   "source": [
    "N=100000;\n",
    "X=npr.randn(N)\n",
    "R=[np.exp(25/2)-np.exp(5*X[i])*(X[i]<0) for i in range(N)]\n",
    "#print(R)\n",
    "theta2=np.mean(R)\n",
    "sigma2=np.std(R)\n",
    "marge2=1.96*sigma2/np.sqrt(N)\n",
    "print(\"confidence interval: lower\", theta2-marge2,  \", upper\",theta2+marge2)\n",
    "print(\"comparison of the margins :\", 1.96*sigma/np.sqrt(N), 1.96*sigma1/np.sqrt(N), 1.96*sigma2/np.sqrt(N))\n"
   ]
  },
  {
   "cell_type": "code",
   "execution_count": null,
   "metadata": {},
   "outputs": [],
   "source": []
  }
 ],
 "metadata": {
  "kernelspec": {
   "display_name": "Python 3 (ipykernel)",
   "language": "python",
   "name": "python3"
  },
  "language_info": {
   "codemirror_mode": {
    "name": "ipython",
    "version": 3
   },
   "file_extension": ".py",
   "mimetype": "text/x-python",
   "name": "python",
   "nbconvert_exporter": "python",
   "pygments_lexer": "ipython3",
   "version": "3.11.3"
  }
 },
 "nbformat": 4,
 "nbformat_minor": 2
}
